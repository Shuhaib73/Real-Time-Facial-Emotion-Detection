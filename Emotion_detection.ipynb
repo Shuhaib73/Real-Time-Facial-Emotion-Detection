{
  "cells": [
    {
      "cell_type": "markdown",
      "metadata": {},
      "source": [
        "## **Real-Time Face Emotion Detection**"
      ]
    },
    {
      "cell_type": "markdown",
      "metadata": {},
      "source": [
        "- This project implements real-time facial emotion detection using the Deep CNN and OpenCV. It captures video from the webcam, detects faces, and predicts the emotions associated with each face. The emotion labels are displayed on the frames in real-time.\n",
        "- Aims to classify the emotion on a person's face into one of seven categories, using deep convolutional neural networks.\n",
        "- The dataset consists of 48x48 pixel grayscale images of faces. Each face is classified based on the emotion shown in the facial expression into one of seven categories (0=Angry, 1=Disgust, 2=Fear, 3=Happy, 4=Sad, 5=Surprise, 6=Neutral).\n",
        "\n",
        "**Approach**\n",
        "\n",
        "1. Import the necessary libraries: cv2 for video capture and image processing, and CNN for the emotion detection model.\n",
        "\n",
        "2. Load the Haar cascade classifier XML file for face detection using cv2.CascadeClassifier().\n",
        "\n",
        "3. Start capturing video from the default webcam using cv2.VideoCapture().\n",
        "\n",
        "4. Enter a continuous loop to process each frame of the captured video.\n",
        "\n",
        "5. Convert each frame to grayscale using cv2.cvtColor().\n",
        "\n",
        "6. Detect faces in the grayscale frame using face_cascade.detectMultiScale().\n",
        "\n",
        "7. For each detected face, extract the face ROI (Region of Interest).\n",
        "\n",
        "8. Preprocess the face image for emotion detection using the deepface library's built-in preprocessing function.\n",
        "\n",
        "9. Make predictions for the emotions using the pre-trained emotion detection model provided by the deepface library.\n",
        "\n",
        "10. Retrieve the index of the predicted emotion and map it to the corresponding emotion label.\n",
        "\n",
        "11. Draw a rectangle around the detected face and label it with the predicted emotion using cv2.rectangle() and cv2.putText().\n",
        "\n",
        "12. Display the resulting frame with the labeled emotion using cv2.imshow().\n",
        "\n",
        "13. If the 'q' key is pressed, exit the loop.\n",
        "\n",
        "14. Release the video capture and close all windows using cap.release() and cv2.destroyAllWindows()."
      ]
    },
    {
      "cell_type": "code",
      "execution_count": 36,
      "metadata": {
        "id": "Oi-SLjpcqlT0"
      },
      "outputs": [],
      "source": [
        "# Import necessary libraries\n",
        "import os\n",
        "import pandas as pd\n",
        "import numpy as np\n",
        "import matplotlib.pyplot as plt\n",
        "import seaborn as sns\n",
        "import warnings\n",
        "import zipfile\n",
        "\n",
        "# Scikit-learn for machine learning metrics\n",
        "from sklearn import metrics\n",
        "\n",
        "# Tensorflow and keras libraries\n",
        "from tensorflow.keras.preprocessing.image import ImageDataGenerator\n",
        "from tensorflow.keras.models import Sequential\n",
        "from tensorflow.keras.layers import Dense, Dropout, Flatten\n",
        "from tensorflow.keras.layers import Conv2D, MaxPooling2D\n",
        "from tensorflow.keras.models import load_model\n",
        "\n",
        "\n",
        "# Set an option to display a maximum of 100 columns in Pandas DataFrame\n",
        "pd.set_option('display.max_columns',100)\n",
        "\n",
        "# Suppress warnings to improve the clarity of the output\n",
        "warnings.filterwarnings('ignore')"
      ]
    },
    {
      "cell_type": "code",
      "execution_count": 3,
      "metadata": {
        "colab": {
          "base_uri": "https://localhost:8080/"
        },
        "id": "aIBtNaEIy5D1",
        "outputId": "1f55c66e-3dda-43ba-9262-a253e087b724"
      },
      "outputs": [
        {
          "name": "stdout",
          "output_type": "stream",
          "text": [
            "Mounted at /content/drive\n"
          ]
        }
      ],
      "source": [
        "# Mounting Google Drive to the Colab environment\n",
        "\n",
        "from google.colab import drive\n",
        "drive.mount('/content/drive')"
      ]
    },
    {
      "cell_type": "code",
      "execution_count": 4,
      "metadata": {
        "id": "vZhrjcKUzA5A"
      },
      "outputs": [],
      "source": [
        "# Define the path to the zip file containing the dataset\n",
        "file_path = '/content/drive/MyDrive/Colab/archive.zip'\n",
        "\n",
        "# directory where the extracted files will be saved\n",
        "extract_dir = '/content/drive/MyDrive/Colab'\n",
        "\n",
        "# Extracting files from the zip archive\n",
        "with zipfile.ZipFile(file_path, 'r') as files:\n",
        "  files.extractall(extract_dir)"
      ]
    },
    {
      "cell_type": "code",
      "execution_count": 5,
      "metadata": {
        "id": "CoIaLxFozBNt"
      },
      "outputs": [],
      "source": [
        "# Define the directory containing the training and testing data.\n",
        "train_data_dir = '/content/drive/MyDrive/Colab/train'\n",
        "validation_data_dir = '/content/drive/MyDrive/Colab/test'"
      ]
    },
    {
      "cell_type": "code",
      "execution_count": 6,
      "metadata": {
        "id": "WFmfMcaMz9MC"
      },
      "outputs": [],
      "source": [
        "# ImageDataGenerator for augmenting training data\n",
        "\n",
        "train_datagen = ImageDataGenerator(\n",
        "    rescale=1./255,                         # Rescale pixel values to [0,1]\n",
        "    rotation_range=30,                      # Random rotation up to 30 degrees\n",
        "    shear_range=0.3,                        # Shear transformations\n",
        "    zoom_range=0.3,                         # Random zoom\n",
        "    horizontal_flip=True,                   # Random horizontal flips\n",
        "    fill_mode='nearest'                     # Fill mode for newly created pixels\n",
        ")"
      ]
    },
    {
      "cell_type": "markdown",
      "metadata": {},
      "source": [
        "- Augmenting training data involves applying a variety of transformations to the original training images to artificially increase the size and diversity of the training dataset.\n",
        "- The main purpose of data augmentation is to introduce variability into the training data, which helps the model become more robust and generalize better to unseen data."
      ]
    },
    {
      "cell_type": "code",
      "execution_count": 7,
      "metadata": {
        "id": "EtTg7aoQz9Ew"
      },
      "outputs": [],
      "source": [
        "# ImageDataGenerator for preprocessing validation data\n",
        "\n",
        "validation_datagen = ImageDataGenerator(rescale=1./255)   # Rescale pixel values to [0,1]"
      ]
    },
    {
      "cell_type": "code",
      "execution_count": 8,
      "metadata": {
        "colab": {
          "base_uri": "https://localhost:8080/"
        },
        "id": "T025WaOz8P62",
        "outputId": "609ccc7e-cb5c-4e0f-8253-5a8340cce760"
      },
      "outputs": [
        {
          "name": "stdout",
          "output_type": "stream",
          "text": [
            "Found 28704 images belonging to 7 classes.\n"
          ]
        }
      ],
      "source": [
        "# Creating a generator for training data\n",
        "\n",
        "train_generator = train_datagen.flow_from_directory(\n",
        "    train_data_dir,                                         #  Directory containing training images\n",
        "    color_mode='grayscale',                                 # Color mode of the images\n",
        "    target_size=(48, 48),                                   # Resizing images to (48, 48)\n",
        "    batch_size=32,                                          \n",
        "    class_mode='categorical',                               # Type of label assignment\n",
        "    shuffle=True                                            # Shuffling the data\n",
        ")   "
      ]
    },
    {
      "cell_type": "code",
      "execution_count": 9,
      "metadata": {
        "colab": {
          "base_uri": "https://localhost:8080/"
        },
        "id": "QrI84HIm8z0A",
        "outputId": "f692e2ae-6cf5-40fb-e2c8-241047108298"
      },
      "outputs": [
        {
          "name": "stdout",
          "output_type": "stream",
          "text": [
            "Found 7178 images belonging to 7 classes.\n"
          ]
        }
      ],
      "source": [
        "# Creating a generator for testing data\n",
        "\n",
        "validation_generator = validation_datagen.flow_from_directory(\n",
        "    validation_data_dir,\n",
        "    color_mode='grayscale',\n",
        "    target_size=(48, 48),\n",
        "    batch_size=32,\n",
        "    class_mode='categorical',\n",
        "    shuffle=True\n",
        ")"
      ]
    },
    {
      "cell_type": "code",
      "execution_count": 10,
      "metadata": {
        "id": "iGoi-e029FAf"
      },
      "outputs": [],
      "source": [
        "# Class labels corresponding to the emotion categories\n",
        "\n",
        "class_labels=['Angry', 'Disgust', 'Fear', 'Happy', 'Neutral', 'Sad', 'Surprise']\n",
        "\n",
        "# Extracting an image and its label from the training generator\n",
        "img, label = train_generator.__next__()"
      ]
    },
    {
      "cell_type": "code",
      "execution_count": 11,
      "metadata": {
        "id": "5wsllq2K9Tf6"
      },
      "outputs": [],
      "source": [
        "# Creating a sequential model\n",
        "Model = Sequential()\n",
        "\n",
        "# Adding a convolutional layer with 32 filters, each of size (3,3), using ReLU activation function\n",
        "Model.add(Conv2D(32, kernel_size=(3, 3), activation='relu', input_shape=(48, 48, 1)))\n",
        "\n",
        "Model.add(Conv2D(64, kernel_size=(3, 3), activation='relu'))\n",
        "# Adding max pooling layer with pool size (2,2) to down sample the feature maps\n",
        "Model.add(MaxPooling2D(pool_size=(2, 2)))\n",
        "# Adding dropout layer with a rate of 0.1 to prevent overfitting\n",
        "Model.add(Dropout(0.1))                                             \n",
        "\n",
        "Model.add(Conv2D(128, kernel_size=(3, 3), activation='relu'))\n",
        "Model.add(MaxPooling2D(pool_size=(2, 2)))\n",
        "Model.add(Dropout(0.1))\n",
        "\n",
        "Model.add(Conv2D(256, kernel_size=(3, 3), activation='relu'))\n",
        "Model.add(MaxPooling2D(pool_size=(2, 2)))\n",
        "Model.add(Dropout(0.1))\n",
        "\n",
        "# Flattening the feature \n",
        "Model.add(Flatten())\n",
        "\n",
        "# Adding a fully connected layer with 512 neurons using ReLU activation function\n",
        "Model.add(Dense(512, activation='relu'))\n",
        "Model.add(Dropout(0.2))\n",
        "\n",
        "# Adding the output layer with 7 neurons (corresponding to the 7 emotion classes) using softmax activation function\n",
        "Model.add(Dense(7, activation='softmax'))"
      ]
    },
    {
      "cell_type": "code",
      "execution_count": 12,
      "metadata": {
        "id": "WpgShOAW9U3S"
      },
      "outputs": [],
      "source": [
        "# Compiling the model with Adam optimizer, categorical crossentropy loss, and accuracy metric\n",
        "Model.compile(optimizer='adam', loss='categorical_crossentropy', metrics=['accuracy'])"
      ]
    },
    {
      "cell_type": "code",
      "execution_count": 13,
      "metadata": {
        "colab": {
          "base_uri": "https://localhost:8080/"
        },
        "id": "iJipe2Wm9Ut7",
        "outputId": "7a0572f3-e4fd-4378-99d3-d42e5166be1f"
      },
      "outputs": [
        {
          "name": "stdout",
          "output_type": "stream",
          "text": [
            "Model: \"sequential\"\n",
            "_________________________________________________________________\n",
            " Layer (type)                Output Shape              Param #   \n",
            "=================================================================\n",
            " conv2d (Conv2D)             (None, 46, 46, 32)        320       \n",
            "                                                                 \n",
            " conv2d_1 (Conv2D)           (None, 44, 44, 64)        18496     \n",
            "                                                                 \n",
            " max_pooling2d (MaxPooling2  (None, 22, 22, 64)        0         \n",
            " D)                                                              \n",
            "                                                                 \n",
            " dropout (Dropout)           (None, 22, 22, 64)        0         \n",
            "                                                                 \n",
            " conv2d_2 (Conv2D)           (None, 20, 20, 128)       73856     \n",
            "                                                                 \n",
            " max_pooling2d_1 (MaxPoolin  (None, 10, 10, 128)       0         \n",
            " g2D)                                                            \n",
            "                                                                 \n",
            " dropout_1 (Dropout)         (None, 10, 10, 128)       0         \n",
            "                                                                 \n",
            " conv2d_3 (Conv2D)           (None, 8, 8, 256)         295168    \n",
            "                                                                 \n",
            " max_pooling2d_2 (MaxPoolin  (None, 4, 4, 256)         0         \n",
            " g2D)                                                            \n",
            "                                                                 \n",
            " dropout_2 (Dropout)         (None, 4, 4, 256)         0         \n",
            "                                                                 \n",
            " flatten (Flatten)           (None, 4096)              0         \n",
            "                                                                 \n",
            " dense (Dense)               (None, 512)               2097664   \n",
            "                                                                 \n",
            " dropout_3 (Dropout)         (None, 512)               0         \n",
            "                                                                 \n",
            " dense_1 (Dense)             (None, 7)                 3591      \n",
            "                                                                 \n",
            "=================================================================\n",
            "Total params: 2489095 (9.50 MB)\n",
            "Trainable params: 2489095 (9.50 MB)\n",
            "Non-trainable params: 0 (0.00 Byte)\n",
            "_________________________________________________________________\n"
          ]
        }
      ],
      "source": [
        "# Displaying the summary of the model architecture\n",
        "Model.summary()"
      ]
    },
    {
      "cell_type": "code",
      "execution_count": 14,
      "metadata": {
        "id": "qOyt81gA_Sa6"
      },
      "outputs": [],
      "source": [
        "# directory containing the training images\n",
        "train_path = '/content/drive/MyDrive/Colab/train'\n",
        "\n",
        "# Loop through the directory structure to count the number of training images\n",
        "num_train_images = 0\n",
        "for root, dirs, files in os.walk(train_path):\n",
        "  num_train_images += len(files)"
      ]
    },
    {
      "cell_type": "code",
      "execution_count": 15,
      "metadata": {
        "id": "kdOEgJfjAS2p"
      },
      "outputs": [],
      "source": [
        "# directory containing the testing images\n",
        "test_path = '/content/drive/MyDrive/Colab/test'\n",
        "\n",
        "num_test_images = 0\n",
        "for root, dir, files in os.walk(test_path):\n",
        "  num_test_images += len(files)"
      ]
    },
    {
      "cell_type": "code",
      "execution_count": 16,
      "metadata": {
        "colab": {
          "base_uri": "https://localhost:8080/"
        },
        "id": "vxcDkPqoASz8",
        "outputId": "f0bcc983-7318-4d27-b1d2-0b02ef77f80b"
      },
      "outputs": [
        {
          "name": "stdout",
          "output_type": "stream",
          "text": [
            "Training Images: 28704\n",
            "Testing Images: 7178\n"
          ]
        }
      ],
      "source": [
        "print(f\"Training Images: {num_train_images}\")\n",
        "print(f\"Testing Images: {num_test_images}\")"
      ]
    },
    {
      "cell_type": "code",
      "execution_count": 17,
      "metadata": {
        "colab": {
          "base_uri": "https://localhost:8080/"
        },
        "id": "b746F03hASwA",
        "outputId": "96ac6f7b-55c6-4b0d-c18e-6a08decc0b82"
      },
      "outputs": [
        {
          "name": "stdout",
          "output_type": "stream",
          "text": [
            "Epoch 1/40\n",
            "897/897 [==============================] - 191s 206ms/step - loss: 1.7701 - accuracy: 0.2683 - val_loss: 1.6912 - val_accuracy: 0.3150\n",
            "Epoch 2/40\n",
            "897/897 [==============================] - 148s 164ms/step - loss: 1.6592 - accuracy: 0.3336 - val_loss: 1.4728 - val_accuracy: 0.4328\n",
            "Epoch 3/40\n",
            "897/897 [==============================] - 129s 143ms/step - loss: 1.5155 - accuracy: 0.4092 - val_loss: 1.3430 - val_accuracy: 0.4891\n",
            "Epoch 4/40\n",
            "897/897 [==============================] - 133s 148ms/step - loss: 1.4311 - accuracy: 0.4480 - val_loss: 1.2783 - val_accuracy: 0.5133\n",
            "Epoch 5/40\n",
            "897/897 [==============================] - 128s 143ms/step - loss: 1.3768 - accuracy: 0.4722 - val_loss: 1.2269 - val_accuracy: 0.5339\n",
            "Epoch 6/40\n",
            "897/897 [==============================] - 125s 140ms/step - loss: 1.3357 - accuracy: 0.4909 - val_loss: 1.1999 - val_accuracy: 0.5445\n",
            "Epoch 7/40\n",
            "897/897 [==============================] - 125s 140ms/step - loss: 1.3032 - accuracy: 0.5035 - val_loss: 1.1779 - val_accuracy: 0.5534\n",
            "Epoch 8/40\n",
            "897/897 [==============================] - 124s 139ms/step - loss: 1.2842 - accuracy: 0.5116 - val_loss: 1.1508 - val_accuracy: 0.5618\n",
            "Epoch 9/40\n",
            "897/897 [==============================] - 164s 182ms/step - loss: 1.2676 - accuracy: 0.5167 - val_loss: 1.1622 - val_accuracy: 0.5518\n",
            "Epoch 10/40\n",
            "897/897 [==============================] - 1076s 1s/step - loss: 1.2522 - accuracy: 0.5201 - val_loss: 1.1569 - val_accuracy: 0.5539\n",
            "Epoch 11/40\n",
            "897/897 [==============================] - 125s 139ms/step - loss: 1.2392 - accuracy: 0.5258 - val_loss: 1.1539 - val_accuracy: 0.5642\n",
            "Epoch 12/40\n",
            "897/897 [==============================] - 124s 139ms/step - loss: 1.2245 - accuracy: 0.5362 - val_loss: 1.1289 - val_accuracy: 0.5709\n",
            "Epoch 13/40\n",
            "897/897 [==============================] - 126s 140ms/step - loss: 1.2146 - accuracy: 0.5366 - val_loss: 1.1276 - val_accuracy: 0.5759\n",
            "Epoch 14/40\n",
            "897/897 [==============================] - 145s 162ms/step - loss: 1.2057 - accuracy: 0.5419 - val_loss: 1.1284 - val_accuracy: 0.5744\n",
            "Epoch 15/40\n",
            "897/897 [==============================] - 144s 161ms/step - loss: 1.1970 - accuracy: 0.5423 - val_loss: 1.1109 - val_accuracy: 0.5820\n",
            "Epoch 16/40\n",
            "897/897 [==============================] - 125s 139ms/step - loss: 1.1908 - accuracy: 0.5466 - val_loss: 1.1154 - val_accuracy: 0.5749\n",
            "Epoch 17/40\n",
            "897/897 [==============================] - 145s 162ms/step - loss: 1.1822 - accuracy: 0.5499 - val_loss: 1.0813 - val_accuracy: 0.5919\n",
            "Epoch 18/40\n",
            "897/897 [==============================] - 124s 138ms/step - loss: 1.1755 - accuracy: 0.5537 - val_loss: 1.0954 - val_accuracy: 0.5890\n",
            "Epoch 19/40\n",
            "897/897 [==============================] - 123s 138ms/step - loss: 1.1688 - accuracy: 0.5599 - val_loss: 1.0834 - val_accuracy: 0.5862\n",
            "Epoch 20/40\n",
            "897/897 [==============================] - 126s 140ms/step - loss: 1.1662 - accuracy: 0.5580 - val_loss: 1.0862 - val_accuracy: 0.5903\n",
            "Epoch 21/40\n",
            "897/897 [==============================] - 124s 138ms/step - loss: 1.1621 - accuracy: 0.5585 - val_loss: 1.0742 - val_accuracy: 0.6014\n",
            "Epoch 22/40\n",
            "897/897 [==============================] - 147s 164ms/step - loss: 1.1465 - accuracy: 0.5670 - val_loss: 1.0627 - val_accuracy: 0.6013\n",
            "Epoch 23/40\n",
            "897/897 [==============================] - 147s 164ms/step - loss: 1.1434 - accuracy: 0.5681 - val_loss: 1.0790 - val_accuracy: 0.5912\n",
            "Epoch 24/40\n",
            "897/897 [==============================] - 127s 141ms/step - loss: 1.1448 - accuracy: 0.5634 - val_loss: 1.0751 - val_accuracy: 0.5929\n",
            "Epoch 25/40\n",
            "897/897 [==============================] - 126s 141ms/step - loss: 1.1425 - accuracy: 0.5665 - val_loss: 1.0665 - val_accuracy: 0.6020\n",
            "Epoch 26/40\n",
            "897/897 [==============================] - 126s 140ms/step - loss: 1.1329 - accuracy: 0.5701 - val_loss: 1.0659 - val_accuracy: 0.5953\n",
            "Epoch 27/40\n",
            "897/897 [==============================] - 125s 139ms/step - loss: 1.1287 - accuracy: 0.5753 - val_loss: 1.0649 - val_accuracy: 0.5995\n",
            "Epoch 28/40\n",
            "897/897 [==============================] - 125s 139ms/step - loss: 1.1299 - accuracy: 0.5715 - val_loss: 1.0741 - val_accuracy: 0.5967\n",
            "Epoch 29/40\n",
            "897/897 [==============================] - 124s 139ms/step - loss: 1.1218 - accuracy: 0.5748 - val_loss: 1.0481 - val_accuracy: 0.6083\n",
            "Epoch 30/40\n",
            "897/897 [==============================] - 124s 138ms/step - loss: 1.1227 - accuracy: 0.5723 - val_loss: 1.0614 - val_accuracy: 0.6053\n",
            "Epoch 31/40\n",
            "897/897 [==============================] - 125s 139ms/step - loss: 1.1153 - accuracy: 0.5774 - val_loss: 1.0691 - val_accuracy: 0.6014\n",
            "Epoch 32/40\n",
            "897/897 [==============================] - 126s 141ms/step - loss: 1.1153 - accuracy: 0.5772 - val_loss: 1.0571 - val_accuracy: 0.6034\n",
            "Epoch 33/40\n",
            "897/897 [==============================] - 122s 136ms/step - loss: 1.1100 - accuracy: 0.5793 - val_loss: 1.0559 - val_accuracy: 0.6010\n",
            "Epoch 34/40\n",
            "897/897 [==============================] - 123s 137ms/step - loss: 1.1015 - accuracy: 0.5798 - val_loss: 1.0484 - val_accuracy: 0.6131\n",
            "Epoch 35/40\n",
            "897/897 [==============================] - 121s 135ms/step - loss: 1.1099 - accuracy: 0.5784 - val_loss: 1.0439 - val_accuracy: 0.6108\n",
            "Epoch 36/40\n",
            "897/897 [==============================] - 123s 137ms/step - loss: 1.1084 - accuracy: 0.5780 - val_loss: 1.0422 - val_accuracy: 0.6116\n",
            "Epoch 37/40\n",
            "897/897 [==============================] - 121s 135ms/step - loss: 1.0989 - accuracy: 0.5828 - val_loss: 1.0373 - val_accuracy: 0.6168\n",
            "Epoch 38/40\n",
            "897/897 [==============================] - 121s 134ms/step - loss: 1.0933 - accuracy: 0.5842 - val_loss: 1.0301 - val_accuracy: 0.6172\n",
            "Epoch 39/40\n",
            "897/897 [==============================] - 121s 135ms/step - loss: 1.0948 - accuracy: 0.5840 - val_loss: 1.0227 - val_accuracy: 0.6168\n",
            "Epoch 40/40\n",
            "897/897 [==============================] - 141s 157ms/step - loss: 1.0880 - accuracy: 0.5890 - val_loss: 1.0452 - val_accuracy: 0.6116\n"
          ]
        }
      ],
      "source": [
        "# Train the model using the training generator\n",
        "# steps_per_epoch is set to the total number of training images divided by the batch size\n",
        "# validation_data is set to the validation generator\n",
        "# validation_steps is set to the total number of validation images divided by the batch size\n",
        "epochs = 40\n",
        "\n",
        "history = Model.fit(train_generator,\n",
        "                   steps_per_epoch=num_train_images//32,\n",
        "                   epochs=epochs,\n",
        "                   validation_data=validation_generator,\n",
        "                   validation_steps=num_test_images//32)"
      ]
    },
    {
      "cell_type": "code",
      "execution_count": 23,
      "metadata": {
        "id": "958PoXAjJOW8"
      },
      "outputs": [],
      "source": [
        "# Save the trained Model\n",
        "\n",
        "Model.save(\"Colab/Emotion_Detection_Model.h5\")"
      ]
    },
    {
      "cell_type": "code",
      "execution_count": 27,
      "metadata": {
        "id": "KTxWjLdlJONh"
      },
      "outputs": [],
      "source": [
        "# Load the Saved Model\n",
        "\n",
        "loaded_model = load_model(\"/content/Colab/Emotion_Detection_Model.h5\")"
      ]
    },
    {
      "cell_type": "code",
      "execution_count": 28,
      "metadata": {
        "colab": {
          "base_uri": "https://localhost:8080/"
        },
        "id": "clnz8W-zmx4m",
        "outputId": "0c639e39-89ce-48cf-df46-0626958d6d73"
      },
      "outputs": [
        {
          "name": "stdout",
          "output_type": "stream",
          "text": [
            "224/224 [==============================] - 23s 101ms/step - loss: 1.0454 - accuracy: 0.6115\n"
          ]
        }
      ],
      "source": [
        "# Evaluate the model on the test dataset\n",
        "\n",
        "evaluation = loaded_model.evaluate(validation_generator, steps=num_test_images//32)"
      ]
    },
    {
      "cell_type": "code",
      "execution_count": 31,
      "metadata": {
        "colab": {
          "base_uri": "https://localhost:8080/"
        },
        "id": "08370mhsmx1O",
        "outputId": "7c21b13b-8d1d-4509-8724-e8b63cf174e5"
      },
      "outputs": [
        {
          "name": "stdout",
          "output_type": "stream",
          "text": [
            "Test Accuracy: 61.14676594734192\n",
            "Test Loss: 1.0454462766647339\n"
          ]
        }
      ],
      "source": [
        "# Evaluation Results\n",
        "print(f\"Test Accuracy: {evaluation[1] * 100}\")\n",
        "print(f\"Test Loss: {evaluation[0]}\")"
      ]
    },
    {
      "cell_type": "code",
      "execution_count": 35,
      "metadata": {
        "colab": {
          "base_uri": "https://localhost:8080/",
          "height": 389
        },
        "id": "oTYa96o3mxxs",
        "outputId": "6d604462-cc64-42e2-bea1-9c40322d80be"
      },
      "outputs": [
        {
          "data": {
            "image/png": "[encoded data removed]",
            "text/plain": [
              "<Figure size 1000x400 with 2 Axes>"
            ]
          },
          "metadata": {},
          "output_type": "display_data"
        }
      ],
      "source": [
        "plt.figure(figsize=(10, 4))\n",
        "plt.subplot(1, 2, 1)\n",
        "plt.plot(history.history['accuracy'])\n",
        "plt.plot(history.history['val_accuracy'])\n",
        "plt.title('Model Accuracy', fontdict={'fontsize': 12, 'color': '#03045e'})\n",
        "plt.xlabel(\"Accuracy\")\n",
        "plt.ylabel(\"Epoch\")\n",
        "plt.legend(['Train', 'Validation'], loc='upper left')\n",
        "\n",
        "plt.subplot(1, 2, 2)\n",
        "plt.plot(history.history['loss'])\n",
        "plt.plot(history.history['val_loss'])\n",
        "plt.title('Model Loss', fontdict={'fontsize': 12, 'color': '#03045e'})\n",
        "plt.xlabel(\"Loss\")\n",
        "plt.ylabel(\"Epoch\")\n",
        "plt.legend(['Train', 'Validation'], loc='upper left')\n",
        "\n",
        "sns.despine()\n",
        "plt.show()"
      ]
    }
  ],
  "metadata": {
    "accelerator": "GPU",
    "colab": {
      "gpuType": "T4",
      "provenance": []
    },
    "kernelspec": {
      "display_name": "Python 3",
      "name": "python3"
    },
    "language_info": {
      "name": "python"
    }
  },
  "nbformat": 4,
  "nbformat_minor": 0
}
